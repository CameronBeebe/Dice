{
 "cells": [
  {
   "cell_type": "markdown",
   "metadata": {},
   "source": [
    "# Create dice objects to be used in simple dice game simulations"
   ]
  },
  {
   "cell_type": "code",
   "execution_count": 13,
   "metadata": {},
   "outputs": [],
   "source": [
    "import numpy as np\n",
    "\n",
    "class Die:\n",
    "    '''\n",
    "    Dice have a number of sides and, unless in motion, always have one face up.  \n",
    "    \n",
    "    Cocked dice are ignored, and motion/trajectories are assumed to be a random choice from the number of sides.\n",
    "    '''\n",
    "    \n",
    "    def __init__(self,sides):\n",
    "        self.sides = sides\n",
    "        self.face_up = np.random.choice([i+1 for i in range(self.sides)])\n",
    "        \n",
    "    def roll(self):\n",
    "        self.face_up = np.random.choice([i+1 for i in range(self.sides)])\n",
    "        \n",
    "        return self.face_up"
   ]
  },
  {
   "cell_type": "code",
   "execution_count": 14,
   "metadata": {},
   "outputs": [],
   "source": [
    "die = Die(sides=6)"
   ]
  },
  {
   "cell_type": "code",
   "execution_count": 3,
   "metadata": {},
   "outputs": [
    {
     "data": {
      "text/plain": [
       "2"
      ]
     },
     "execution_count": 3,
     "metadata": {},
     "output_type": "execute_result"
    }
   ],
   "source": [
    "die.face_up"
   ]
  },
  {
   "cell_type": "code",
   "execution_count": 4,
   "metadata": {},
   "outputs": [
    {
     "data": {
      "text/plain": [
       "5"
      ]
     },
     "execution_count": 4,
     "metadata": {},
     "output_type": "execute_result"
    }
   ],
   "source": [
    "die.roll()"
   ]
  },
  {
   "cell_type": "code",
   "execution_count": 5,
   "metadata": {},
   "outputs": [
    {
     "data": {
      "text/plain": [
       "5"
      ]
     },
     "execution_count": 5,
     "metadata": {},
     "output_type": "execute_result"
    }
   ],
   "source": [
    "die.face_up"
   ]
  },
  {
   "cell_type": "code",
   "execution_count": 138,
   "metadata": {},
   "outputs": [],
   "source": [
    "import numpy as np\n",
    "from collections import Counter\n",
    "\n",
    "class Dice_Game:\n",
    "    '''\n",
    "    This simple multiplayer dice game is the Beebe family's variation of a popular dice game, we just call it \"Dice\".  \n",
    "    \n",
    "    Instructions:\n",
    "    \n",
    "    Players determine who goes first, and proceed taking turns in an order (typically clockwise around a table).\n",
    "    \n",
    "    Each player, in turn, proceeds by first shaking all six dice, \n",
    "    and proceeding along a decision tree of subsequent rolls.\n",
    "    This tree ends in either a zero score, where a shake results in no dice count for points, \n",
    "    or the player \"keeps\" a number of dice which count for points.\n",
    "    \n",
    "    The point value of dice are determined per shake, \n",
    "    and point values do not change when mixed with dice kept from previous rolls.\n",
    "    \n",
    "    COUNTERS:\n",
    "    \n",
    "    One: 100\n",
    "    Five: 50\n",
    "    \n",
    "    THREE-OF-A-KIND:\n",
    "    Ones: 1000\n",
    "    Sixes: 600\n",
    "    Fives: 500\n",
    "    Fours: 400\n",
    "    Threes: 300\n",
    "    Twos: 200\n",
    "    \n",
    "    STRAIGHT (1,2,3,4,5,6): 2500\n",
    "    \n",
    "    FLUSH (ALL-OF-A-KIND): Instant Win.\n",
    "    \n",
    "    On the occasion where all dice rolled are \"counters\", the dice must all be brought back and shook again.\n",
    "    The turn proceeds as usual, adding the new shake points to the previous all-counter results.\n",
    "    \n",
    "    \n",
    "    '''\n",
    "    \n",
    "    def __init__(self, players, num_dice=6):\n",
    "        self.player_names = ['Player_{}'.format(name + 1) for name in [j for j in range(players)]]\n",
    "        self.players = [self.Player(name=player) for player in self.player_names]\n",
    "        self.dice = [self.Die(sides=6) for die in [i for i in range(num_dice)]]\n",
    "        self.play_to = 7500\n",
    "        self.winner = False\n",
    "        self.turn = 0\n",
    "        \n",
    "        \n",
    "    def start():\n",
    "        self.score = score\n",
    "        \n",
    "    \n",
    "    def shake(self,dice_to_roll,Player):\n",
    "        shook_dice = [die.roll() for die in dice_to_roll]\n",
    "        print('I,', Player.name, 'shook the dice:', [i.face_up for i in dice_to_roll])\n",
    "        #return shook_dice\n",
    "        return dice_to_roll\n",
    "\n",
    "        \n",
    "        \n",
    "    def player_take_turn(self,Player):\n",
    "        still_to_shake = self.dice.copy()\n",
    "        kept = []\n",
    "        Player.turn_shakes = 0\n",
    "        #print('length of self.dice', len(self.dice))\n",
    "        while len(still_to_shake) > 0:\n",
    "            if Player.turn_shakes == 0:\n",
    "                shake = self.shake(still_to_shake,Player)\n",
    "                shake_faces = [i.face_up for i in shake]\n",
    "                #print('shake:',shake_faces)\n",
    "                Player.turn_shakes += 1\n",
    "                counters = self.detect_keepable(shake)\n",
    "                kept, still_to_shake = self.keep_dice(shake, counters)\n",
    "                #print('objects still to shake:',still_to_shake)\n",
    "                print('still to shake faces:', [i.face_up for i in still_to_shake])\n",
    "                Player.learning_history.append(kept)\n",
    "            elif kept != [] and Player.turn_shakes > 0:\n",
    "                print(\"keep 'em rollin'!\")\n",
    "                shake = self.shake(still_to_shake,Player)\n",
    "                shake_faces = [i.face_up for i in shake]\n",
    "                print('shake:',shake_faces)\n",
    "                Player.turn_shakes += 1\n",
    "                counters = self.detect_keepable(shake)\n",
    "                kept, still_to_shake = self.keep_dice(shake, counters)\n",
    "                print('still to shake:',still_to_shake)\n",
    "                print('still to shake faces:', [i.face_up for i in still_to_shake])\n",
    "                Player.learning_history.append(kept)\n",
    "            elif kept == [] and Player.turn_shakes > 0:\n",
    "                print(\"you got nuthin:'\",shake_faces, \". next player's turn.\")\n",
    "                break\n",
    "        \n",
    "        Player.turn += 1\n",
    "        \n",
    "        \n",
    "        \n",
    "    def detect_keepable(self, shook_dice):\n",
    "        \n",
    "        '''\n",
    "        Method which sorts through the shook dice and returns a list (of lists) of potentially keepable dice.\n",
    "        \n",
    "        For example, if the dice objects shook show [1,2,5,4,4,4] detect_keepable will return: [[4,4,4],1,5]\n",
    "        \n",
    "        '''\n",
    "        \n",
    "        print('BEGIN DETECTING KEEPABLES')\n",
    "        \n",
    "        #print('shook dice:', shook_dice)\n",
    "        \n",
    "        dice_faces = [i.face_up for i in shook_dice]\n",
    "        #print('dice faces', dice_faces)\n",
    "        \n",
    "        three_of_a_kinds = [i for i in Counter(dice_faces) if Counter(dice_faces)[i] >= 3]\n",
    "        print('three_of_a_kinds:', three_of_a_kinds)\n",
    "        \n",
    "        keepable_three_of_a_kinds = []\n",
    "        for set_of_three in three_of_a_kinds:\n",
    "            print('set_of_three',set_of_three)\n",
    "            toak = []\n",
    "            for i in shook_dice:\n",
    "                if i.face_up == set_of_three and len(toak) <= 2:\n",
    "                    toak.append(i)\n",
    "            keepable_three_of_a_kinds.append(toak)\n",
    "            #keepable_three_of_a_kinds.append([i for i in shook_dice if i.face_up == set_of_three])\n",
    "            #print('appended keepable three of a kind objects:', keepable_three_of_a_kinds)\n",
    "\n",
    "        keepable = keepable_three_of_a_kinds\n",
    "        #print('keepable objects after adding three of a kinds:', keepable)\n",
    "        print('keepable dice faces after adding three of a kinds:', [j.face_up for i in keepable for j in i])\n",
    "\n",
    "        \n",
    "        for i in shook_dice:\n",
    "            if i.face_up == 1 or i.face_up == 5:\n",
    "                keepable.append(i)\n",
    "        #print('keepable objects after adding ones and fives:', keepable)\n",
    "        print('keepable dice faces after adding ones and fives:', [i.face_up if type(i) != list else [j.face_up for j in i] for i in keepable])\n",
    "                \n",
    "\n",
    "        if set(dice_faces) == set([1,2,3,4,5,6]):\n",
    "            keepable.append(shook_dice)\n",
    "            #print('keepable objects after adding straight:', keepable)\n",
    "            print('keepable dice faces after adding straight:', [i.face_up if type(i) != list else [j.face_up for j in i] for i in keepable])\n",
    "\n",
    "        print('total keepable list of dice faces:', [i.face_up if type(i) != list else [j.face_up for j in i] for i in keepable])\n",
    "        return keepable\n",
    "    \n",
    "    \n",
    "    def keep_dice(self, shook_dice, keepable_list):\n",
    "        '''\n",
    "        Method for choosing which dice to keep.  \n",
    "        \n",
    "        This will in particular need to be interfaced for agent to learn.\n",
    "        \n",
    "        '''\n",
    "        \n",
    "        print('BEGIN KEEPING DICE')\n",
    "        \n",
    "        #print('keepable object list:', keepable_list)\n",
    "        print('keepable dice faces list:', [i.face_up if type(i) != list else [j.face_up for j in i] for i in keepable_list])\n",
    "        print('len keepable_list:', len(keepable_list))\n",
    "        if len(keepable_list) is 0 or 1:\n",
    "            kept_dice = keepable_list\n",
    "        else:\n",
    "            kept_dice = [np.random.choice(keepable_list)]\n",
    "        #print('kept dice objects:', kept_dice)\n",
    "        print('kept dice faces:', [i.face_up if type(i) != list else [j.face_up for j in i] for i in kept_dice])\n",
    "        \n",
    "\n",
    "        for i in kept_dice:\n",
    "            #print('object i in kept_dice:', i)\n",
    "            if type(i) is list:\n",
    "                print('i in kept_dice is list:', [j.face_up for j in i])\n",
    "                for j in i:\n",
    "                    print('j object in list i:', j)\n",
    "                    print('j.face_up in list i:', j.face_up)\n",
    "                    shook_dice.remove(j)\n",
    "                    print('shook_dice removed j:',shook_dice)\n",
    "            elif i in shook_dice:\n",
    "                shook_dice.remove(i)\n",
    "\n",
    "        dice_still_to_shake = shook_dice\n",
    "\n",
    "        return kept_dice, dice_still_to_shake\n",
    "\n",
    "    \n",
    "    \n",
    "    class Die:\n",
    "        '''\n",
    "        Dice have a number of sides and, unless in motion, always have one face up.  \n",
    "\n",
    "        Cocked dice are ignored, and motion/trajectories are assumed to be a random choice from the number of sides.\n",
    "        '''\n",
    "\n",
    "        def __init__(self,sides):\n",
    "            self.sides = sides\n",
    "            self.face_up = np.random.choice([i+1 for i in range(self.sides)])\n",
    "\n",
    "        def roll(self):\n",
    "            self.face_up = np.random.choice([i+1 for i in range(self.sides)])\n",
    "\n",
    "            return self.face_up\n",
    "    \n",
    "    # Players as subclass, called in Dice_Game init\n",
    "    class Player:\n",
    "        '''\n",
    "        Each player is equipped with several attributes, mainly for statistics and for future agent-based learning.\n",
    "        '''\n",
    "    \n",
    "        def __init__(self,name):\n",
    "            self.name = name\n",
    "            self.turn = 0\n",
    "            self.score = 0\n",
    "            self.learning_history = []\n",
    "            self.turn_shakes = 0\n",
    "            self.game_shakes = 0\n",
    "\n",
    "            \n"
   ]
  },
  {
   "cell_type": "code",
   "execution_count": 139,
   "metadata": {},
   "outputs": [],
   "source": [
    "game = Dice_Game(players=3)"
   ]
  },
  {
   "cell_type": "code",
   "execution_count": 140,
   "metadata": {},
   "outputs": [
    {
     "data": {
      "text/plain": [
       "7500"
      ]
     },
     "execution_count": 140,
     "metadata": {},
     "output_type": "execute_result"
    }
   ],
   "source": [
    "game.play_to"
   ]
  },
  {
   "cell_type": "code",
   "execution_count": 141,
   "metadata": {},
   "outputs": [
    {
     "name": "stdout",
     "output_type": "stream",
     "text": [
      "[6, 2, 6, 2, 5, 5]\n"
     ]
    }
   ],
   "source": [
    "print([i.face_up for i in game.dice])"
   ]
  },
  {
   "cell_type": "code",
   "execution_count": 142,
   "metadata": {},
   "outputs": [
    {
     "data": {
      "text/plain": [
       "'Player_1'"
      ]
     },
     "execution_count": 142,
     "metadata": {},
     "output_type": "execute_result"
    }
   ],
   "source": [
    "game.players[0].name"
   ]
  },
  {
   "cell_type": "code",
   "execution_count": 143,
   "metadata": {},
   "outputs": [
    {
     "name": "stdout",
     "output_type": "stream",
     "text": [
      "I, Player_1 shook the dice: [5, 6, 5, 5, 1, 5]\n"
     ]
    }
   ],
   "source": [
    "shake = game.shake(game.dice,game.players[0])"
   ]
  },
  {
   "cell_type": "code",
   "execution_count": 145,
   "metadata": {},
   "outputs": [
    {
     "name": "stdout",
     "output_type": "stream",
     "text": [
      "I, Player_1 shook the dice: [4, 1, 5, 3, 3, 4]\n",
      "BEGIN DETECTING KEEPABLES\n",
      "three_of_a_kinds: []\n",
      "keepable dice faces after adding three of a kinds: []\n",
      "keepable dice faces after adding ones and fives: [1, 5]\n",
      "total keepable list of dice faces: [1, 5]\n",
      "BEGIN KEEPING DICE\n",
      "keepable dice faces list: [1, 5]\n",
      "len keepable_list: 2\n",
      "kept dice faces: [1, 5]\n",
      "still to shake: [<__main__.Dice_Game.Die object at 0x1182fe690>, <__main__.Dice_Game.Die object at 0x1182fe810>, <__main__.Dice_Game.Die object at 0x1182fe8d0>, <__main__.Dice_Game.Die object at 0x1182feb50>]\n",
      "still to shake faces: [4, 3, 3, 4]\n",
      "keep 'em rollin'!\n",
      "I, Player_1 shook the dice: [4, 2, 6, 5]\n",
      "shake: [4, 2, 6, 5]\n",
      "BEGIN DETECTING KEEPABLES\n",
      "three_of_a_kinds: []\n",
      "keepable dice faces after adding three of a kinds: []\n",
      "keepable dice faces after adding ones and fives: [5]\n",
      "total keepable list of dice faces: [5]\n",
      "BEGIN KEEPING DICE\n",
      "keepable dice faces list: [5]\n",
      "len keepable_list: 1\n",
      "kept dice faces: [5]\n",
      "still to shake: [<__main__.Dice_Game.Die object at 0x1182fe690>, <__main__.Dice_Game.Die object at 0x1182fe810>, <__main__.Dice_Game.Die object at 0x1182fe8d0>]\n",
      "still to shake faces: [4, 2, 6]\n",
      "keep 'em rollin'!\n",
      "I, Player_1 shook the dice: [2, 1, 2]\n",
      "shake: [2, 1, 2]\n",
      "BEGIN DETECTING KEEPABLES\n",
      "three_of_a_kinds: []\n",
      "keepable dice faces after adding three of a kinds: []\n",
      "keepable dice faces after adding ones and fives: [1]\n",
      "total keepable list of dice faces: [1]\n",
      "BEGIN KEEPING DICE\n",
      "keepable dice faces list: [1]\n",
      "len keepable_list: 1\n",
      "kept dice faces: [1]\n",
      "still to shake: [<__main__.Dice_Game.Die object at 0x1182fe690>, <__main__.Dice_Game.Die object at 0x1182fe8d0>]\n",
      "still to shake faces: [2, 2]\n",
      "keep 'em rollin'!\n",
      "I, Player_1 shook the dice: [6, 5]\n",
      "shake: [6, 5]\n",
      "BEGIN DETECTING KEEPABLES\n",
      "three_of_a_kinds: []\n",
      "keepable dice faces after adding three of a kinds: []\n",
      "keepable dice faces after adding ones and fives: [5]\n",
      "total keepable list of dice faces: [5]\n",
      "BEGIN KEEPING DICE\n",
      "keepable dice faces list: [5]\n",
      "len keepable_list: 1\n",
      "kept dice faces: [5]\n",
      "still to shake: [<__main__.Dice_Game.Die object at 0x1182fe690>]\n",
      "still to shake faces: [6]\n",
      "keep 'em rollin'!\n",
      "I, Player_1 shook the dice: [4]\n",
      "shake: [4]\n",
      "BEGIN DETECTING KEEPABLES\n",
      "three_of_a_kinds: []\n",
      "keepable dice faces after adding three of a kinds: []\n",
      "keepable dice faces after adding ones and fives: []\n",
      "total keepable list of dice faces: []\n",
      "BEGIN KEEPING DICE\n",
      "keepable dice faces list: []\n",
      "len keepable_list: 0\n",
      "kept dice faces: []\n",
      "still to shake: [<__main__.Dice_Game.Die object at 0x1182fe690>]\n",
      "still to shake faces: [4]\n",
      "you got nuthin:' [4] . next player's turn.\n"
     ]
    }
   ],
   "source": [
    "game.player_take_turn(game.players[0])"
   ]
  },
  {
   "cell_type": "code",
   "execution_count": 52,
   "metadata": {},
   "outputs": [
    {
     "data": {
      "text/plain": [
       "1"
      ]
     },
     "execution_count": 52,
     "metadata": {},
     "output_type": "execute_result"
    }
   ],
   "source": [
    "game.players[0].turn"
   ]
  },
  {
   "cell_type": "code",
   "execution_count": null,
   "metadata": {},
   "outputs": [],
   "source": []
  },
  {
   "cell_type": "code",
   "execution_count": null,
   "metadata": {},
   "outputs": [],
   "source": [
    "def kept_dice_to_potential_score(kept_dice):\n",
    "    \n",
    "    \n",
    "    \n",
    "    return potential_score"
   ]
  },
  {
   "cell_type": "code",
   "execution_count": 39,
   "metadata": {},
   "outputs": [],
   "source": []
  },
  {
   "cell_type": "code",
   "execution_count": 146,
   "metadata": {},
   "outputs": [],
   "source": [
    "def stay_or_go(kept,Player):\n",
    "    \n",
    "    return decision"
   ]
  },
  {
   "cell_type": "code",
   "execution_count": null,
   "metadata": {},
   "outputs": [],
   "source": []
  }
 ],
 "metadata": {
  "kernelspec": {
   "display_name": "Python 3",
   "language": "python",
   "name": "python3"
  },
  "language_info": {
   "codemirror_mode": {
    "name": "ipython",
    "version": 3
   },
   "file_extension": ".py",
   "mimetype": "text/x-python",
   "name": "python",
   "nbconvert_exporter": "python",
   "pygments_lexer": "ipython3",
   "version": "3.7.7"
  }
 },
 "nbformat": 4,
 "nbformat_minor": 4
}
