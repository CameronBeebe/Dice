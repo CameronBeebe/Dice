{
 "cells": [
  {
   "cell_type": "markdown",
   "metadata": {},
   "source": [
    "# Create dice objects to be used in simple dice game simulations"
   ]
  },
  {
   "cell_type": "code",
   "execution_count": 13,
   "metadata": {},
   "outputs": [],
   "source": [
    "import numpy as np\n",
    "\n",
    "class Die:\n",
    "    '''\n",
    "    Dice have a number of sides and, unless in motion, always have one face up.  \n",
    "    \n",
    "    Cocked dice are ignored, and motion/trajectories are assumed to be a random choice from the number of sides.\n",
    "    '''\n",
    "    \n",
    "    def __init__(self,sides):\n",
    "        self.sides = sides\n",
    "        self.face_up = np.random.choice([i+1 for i in range(self.sides)])\n",
    "        \n",
    "    def roll(self):\n",
    "        self.face_up = np.random.choice([i+1 for i in range(self.sides)])\n",
    "        \n",
    "        return self.face_up"
   ]
  },
  {
   "cell_type": "code",
   "execution_count": 14,
   "metadata": {},
   "outputs": [],
   "source": [
    "die = Die(sides=6)"
   ]
  },
  {
   "cell_type": "code",
   "execution_count": 3,
   "metadata": {},
   "outputs": [
    {
     "data": {
      "text/plain": [
       "2"
      ]
     },
     "execution_count": 3,
     "metadata": {},
     "output_type": "execute_result"
    }
   ],
   "source": [
    "die.face_up"
   ]
  },
  {
   "cell_type": "code",
   "execution_count": 4,
   "metadata": {},
   "outputs": [
    {
     "data": {
      "text/plain": [
       "5"
      ]
     },
     "execution_count": 4,
     "metadata": {},
     "output_type": "execute_result"
    }
   ],
   "source": [
    "die.roll()"
   ]
  },
  {
   "cell_type": "code",
   "execution_count": 5,
   "metadata": {},
   "outputs": [
    {
     "data": {
      "text/plain": [
       "5"
      ]
     },
     "execution_count": 5,
     "metadata": {},
     "output_type": "execute_result"
    }
   ],
   "source": [
    "die.face_up"
   ]
  },
  {
   "cell_type": "code",
   "execution_count": 13,
   "metadata": {},
   "outputs": [],
   "source": [
    "import numpy as np\n",
    "from collections import Counter\n",
    "\n",
    "class Dice_Game:\n",
    "    '''\n",
    "    This simple multiplayer dice game is the Beebe family's variation of a popular dice game, we just call it \"Dice\".  \n",
    "    \n",
    "    Instructions:\n",
    "    \n",
    "    Players determine who goes first, and proceed taking turns in an order (typically clockwise around a table).\n",
    "    \n",
    "    Each player, in turn, proceeds by first shaking all six dice, \n",
    "    and proceeding along a decision tree of subsequent rolls.\n",
    "    This tree ends in either a zero score, where a shake results in no dice count for points, \n",
    "    or the player \"keeps\" a number of dice which count for points.\n",
    "    \n",
    "    The point value of dice are determined per shake, \n",
    "    and point values do not change when mixed with dice kept from previous rolls.\n",
    "    \n",
    "    COUNTERS:\n",
    "    \n",
    "    One: 100\n",
    "    Five: 50\n",
    "    \n",
    "    THREE-OF-A-KIND:\n",
    "    Ones: 1000\n",
    "    Sixes: 600\n",
    "    Fives: 500\n",
    "    Fours: 400\n",
    "    Threes: 300\n",
    "    Twos: 200\n",
    "    \n",
    "    STRAIGHT (1,2,3,4,5,6): 2500\n",
    "    \n",
    "    FLUSH (ALL-OF-A-KIND): Instant Win.\n",
    "    \n",
    "    On the occasion where all dice rolled are \"counters\", the dice must all be brought back and shook again.\n",
    "    The turn proceeds as usual, adding the new shake points to the previous all-counter results.\n",
    "    \n",
    "    \n",
    "    '''\n",
    "    \n",
    "    def __init__(self, players, num_dice=6):\n",
    "        self.player_names = ['Player_{}'.format(name + 1) for name in [j for j in range(players)]]\n",
    "        self.players = [self.Player(name=player) for player in self.player_names]\n",
    "        self.dice = [self.Die(sides=6) for die in [i for i in range(num_dice)]]\n",
    "        self.play_to = 7500\n",
    "        self.winner = False\n",
    "        self.turn = 0\n",
    "        \n",
    "        \n",
    "    def start():\n",
    "        self.score = score\n",
    "        \n",
    "    def object_list_to_faces(self,die_list):\n",
    "        '''\n",
    "        Function takes list (potentially including lists) of die objects and returns a list (of lists) of the die faces.\n",
    "        '''\n",
    "\n",
    "        face_list = [i.face_up if type(i) == Dice_Game.Die else [j.face_up for j in i] for i in die_list]\n",
    "\n",
    "        return face_list\n",
    "    \n",
    "    def shake(self,dice_to_roll,Player):\n",
    "        print('SHAKING')\n",
    "        shook_dice = [die.roll() for die in dice_to_roll]\n",
    "        #print('I,', Player.name, 'shook the dice:', [i.face_up for i in dice_to_roll])\n",
    "        print('I,', Player.name, 'shook the dice:', self.object_list_to_faces(dice_to_roll))\n",
    "        return dice_to_roll\n",
    "\n",
    "\n",
    "        \n",
    "    def player_take_turn(self,Player):\n",
    "        Player.turn += 1\n",
    "        still_to_shake = self.dice.copy()\n",
    "        #kept = []\n",
    "        Player.turn_shakes = 0\n",
    "        #print('length of self.dice', len(self.dice))\n",
    "        while len(still_to_shake) > 0:\n",
    "            if Player.turn_shakes == 0:\n",
    "                print('lets goooo!')\n",
    "                \n",
    "                shake = self.shake(still_to_shake,Player)\n",
    "                Player.turn_shakes += 1\n",
    "                shake_faces = [i.face_up for i in shake]\n",
    "                #print('shake:',shake_faces)\n",
    "                counters, bring_back = self.detect_keepable(shake)\n",
    "                kept, still_to_shake, nuthin = self.keep_dice(shake, counters)\n",
    "                print('still to shake faces:', self.object_list_to_faces(still_to_shake))\n",
    "                #kept.append(to_keep)\n",
    "                Player.learning_history.extend(kept)\n",
    "                print('KEPT:',kept)\n",
    "                score = self.kept_dice_faces_to_score(self.object_list_to_faces(kept))\n",
    "                print('SCORE:', score)\n",
    "                print('FIRST JUNCTION')\n",
    "                print('On turn',Player.turn,'shake',Player.turn_shakes,', I,',Player.name,'kept', self.object_list_to_faces(kept),'and my total kept dice is', self.object_list_to_faces(kept))\n",
    "\n",
    "                if bring_back:\n",
    "                    print('bringing back from first junction.............')\n",
    "                    still_to_shake = self.dice.copy()\n",
    "                \n",
    "            #elif kept != [] and Player.turn_shakes > 0:\n",
    "            elif nuthin == 0:\n",
    "                print(\"keep 'em rollin'!\")\n",
    "                print('kept so far:', self.object_list_to_faces(kept))\n",
    "                \n",
    "                shake = self.shake(still_to_shake,Player)\n",
    "                Player.turn_shakes += 1\n",
    "                shake_faces = [i.face_up for i in shake]\n",
    "                print('shake:',shake_faces)\n",
    "                counters, bring_back = self.detect_keepable(shake)\n",
    "                to_keep, still_to_shake, nuthin = self.keep_dice(shake, counters)\n",
    "                #print('objects still to shake:',still_to_shake)\n",
    "                #print('still to shake faces:', [i.face_up for i in still_to_shake])\n",
    "                print('TO KEEP:', self.object_list_to_faces(to_keep))\n",
    "                kept.extend(to_keep)\n",
    "                Player.learning_history.append(kept)\n",
    "                #print('KEPT:',kept)\n",
    "                print('SECOND JUNCTION')\n",
    "                print('On turn',Player.turn,'shake',Player.turn_shakes,', I,',Player.name,'kept', self.object_list_to_faces(to_keep),'and my total kept dice is', self.object_list_to_faces(kept))\n",
    "                if bring_back:\n",
    "                    print('bringing back from second junction.............')\n",
    "                    still_to_shake = self.dice.copy()\n",
    "                    \n",
    "            #elif kept == [] and Player.turn_shakes > 0:\n",
    "            elif nuthin == 1:\n",
    "                print(\"you got nuthin:'\",shake_faces, \". next player's turn.\")\n",
    "                break\n",
    "        \n",
    "        \n",
    "        \n",
    "        \n",
    "        \n",
    "    def detect_keepable(self, shook_dice):\n",
    "        \n",
    "        '''\n",
    "        Method which sorts through the shook dice and returns a list (of lists) of potentially keepable dice.\n",
    "        \n",
    "        For example, if the dice objects shook show [1,2,5,4,4,4] detect_keepable will return: [[4,4,4],1,5]\n",
    "        \n",
    "        '''\n",
    "        print('BEGIN DETECTING KEEPABLES')\n",
    "        \n",
    "        BRING_EM_BACK = 0\n",
    "        \n",
    "        #print('shook dice:', shook_dice)\n",
    "        \n",
    "        dice_faces = self.object_list_to_faces(shook_dice)\n",
    "        #print('dice faces', dice_faces)\n",
    "        #print('DOUBLE CHECK FACES:', [i.face_up for i in shook_dice])\n",
    "        \n",
    "        three_of_a_kinds = [i for i in Counter(dice_faces) if Counter(dice_faces)[i] >= 3]\n",
    "        #print('three_of_a_kinds:', three_of_a_kinds)\n",
    "        \n",
    "        keepable_three_of_a_kinds = []\n",
    "        for set_of_three in three_of_a_kinds:\n",
    "            print('set_of_three',set_of_three)\n",
    "            toak = []\n",
    "            for i in shook_dice:\n",
    "                if i.face_up == set_of_three and len(toak) <= 2:\n",
    "                    toak.append(i)\n",
    "            keepable_three_of_a_kinds.append(toak)\n",
    "            #keepable_three_of_a_kinds.append([i for i in shook_dice if i.face_up == set_of_three])\n",
    "            #print('appended keepable three of a kind objects:', keepable_three_of_a_kinds)\n",
    "\n",
    "        keepable = keepable_three_of_a_kinds\n",
    "        #print('keepable objects after adding three of a kinds:', keepable)\n",
    "        print('keepable dice faces after adding three of a kinds:', self.object_list_to_faces(keepable))\n",
    "        \n",
    "        for i in shook_dice:\n",
    "            if i.face_up == 1 or i.face_up == 5:\n",
    "                keepable.append(i)\n",
    "        #print('keepable objects after adding ones and fives:', keepable)\n",
    "        print('keepable dice faces after adding ones and fives:', self.object_list_to_faces(keepable))     \n",
    "\n",
    "        if set(dice_faces) == set([1,2,3,4,5,6]):\n",
    "            keepable.append(shook_dice)\n",
    "            #print('keepable objects after adding straight:', keepable)\n",
    "            print('keepable dice faces after adding straight:', self.object_list_to_faces(keepable))\n",
    "            \n",
    "        print('total keepable list of dice faces:', self.object_list_to_faces(keepable))\n",
    "        \n",
    "        if all(die in keepable for die in shook_dice):\n",
    "            print('total keepable list of dice faces:', self.object_list_to_faces(keepable))\n",
    "            print('ALL COUNTERS.  BRING EM BACK!  NEED FUNCTION HERE!!!!')\n",
    "            BRING_EM_BACK = 1\n",
    "        \n",
    "        return keepable, BRING_EM_BACK\n",
    "    \n",
    "    \n",
    "    def keep_dice(self, shook_dice, keepable_list):\n",
    "        '''\n",
    "        Method for choosing which dice to keep.  \n",
    "        \n",
    "        This will in particular need to be interfaced for agent to learn.\n",
    "        \n",
    "        '''\n",
    "        \n",
    "        print('BEGIN KEEPING DICE')\n",
    "        \n",
    "        nuthin = 0\n",
    "        \n",
    "        #print('keepable object list:', keepable_list)\n",
    "        #print('keepable dice faces list:', self.object_list_to_faces(keepable_list))\n",
    "        #print('len keepable_list:', len(keepable_list))\n",
    "        if len(keepable_list) is 0 or len(keepable_list) is 1:\n",
    "            kept_dice = keepable_list\n",
    "        else:\n",
    "            kept_dice = [np.random.choice(keepable_list)]\n",
    "        #print('kept dice objects:', kept_dice)\n",
    "        print('kept dice faces:', self.object_list_to_faces(kept_dice))\n",
    "\n",
    "        for i in kept_dice:\n",
    "            #print('object i in kept_dice:', i)\n",
    "            if type(i) is list:\n",
    "                print('i in kept_dice is list:', [j.face_up for j in i])\n",
    "                for j in i:\n",
    "                    #print('j object in list i:', j)\n",
    "                    print('j.face_up in list i:', j.face_up)\n",
    "                    shook_dice.remove(j)\n",
    "                    #print('shook_dice removed j object:',shook_dice)\n",
    "                    print('remaining shook_dice faces after removing j:', [i.face_up for i in shook_dice])\n",
    "            elif i in shook_dice:\n",
    "                shook_dice.remove(i)\n",
    "\n",
    "        dice_still_to_shake = shook_dice\n",
    "        print('dice still to shake faces:', [i.face_up for i in dice_still_to_shake])\n",
    "        \n",
    "        if kept_dice == []:\n",
    "            nuthin = 1\n",
    "\n",
    "        return kept_dice, dice_still_to_shake, nuthin\n",
    "\n",
    "    \n",
    "    def kept_dice_faces_to_score(self,kept_dice_faces):\n",
    "\n",
    "        score = 0\n",
    "\n",
    "        if all(isinstance(i,int) for i in kept_dice_faces):\n",
    "            if set(kept_dice_faces) == set([1,2,3,4,5,6]):\n",
    "                score += 2500\n",
    "                print('STRAIGHT', kept_dice_faces, 'SCORES:', score)\n",
    "        else:\n",
    "            for i in kept_dice_faces:\n",
    "                if isinstance(i,list):\n",
    "                    j = i[0]\n",
    "                    if j >= 2:\n",
    "                        score += j*100\n",
    "                        print('TOAK', i, 'SCORES:', j*100)\n",
    "                    else:\n",
    "                        score += 1000\n",
    "                        print('TOAK of ONES', i, 'SCORES:', 1000)\n",
    "                else:\n",
    "                    if i == 1:\n",
    "                        score += 100\n",
    "                        print('SINGLE', i, 'SCORES', 100)\n",
    "                    elif i == 5:\n",
    "                        score += 50\n",
    "                        print('SINGLE', i, 'SCORES', 50)\n",
    "\n",
    "        return score\n",
    "    \n",
    "    \n",
    "    class Die:\n",
    "        '''\n",
    "        Dice have a number of sides and, unless in motion, always have one face up.  \n",
    "\n",
    "        Cocked dice are ignored, and motion/trajectories are assumed to be a random choice from the number of sides.\n",
    "        '''\n",
    "\n",
    "        def __init__(self,sides):\n",
    "            self.sides = sides\n",
    "            self.face_up = np.random.choice([i+1 for i in range(self.sides)])\n",
    "\n",
    "        def roll(self):\n",
    "            self.face_up = np.random.choice([i+1 for i in range(self.sides)])\n",
    "\n",
    "            return self.face_up\n",
    "    \n",
    "    # Players as subclass, called in Dice_Game init\n",
    "    class Player:\n",
    "        '''\n",
    "        Each player is equipped with several attributes, mainly for statistics and for future agent-based learning.\n",
    "        '''\n",
    "    \n",
    "        def __init__(self,name):\n",
    "            self.name = name\n",
    "            self.turn = 0\n",
    "            self.score = 0\n",
    "            self.learning_history = []\n",
    "            self.turn_shakes = 0\n",
    "            self.game_shakes = 0\n",
    "\n",
    "            \n"
   ]
  },
  {
   "cell_type": "code",
   "execution_count": 14,
   "metadata": {},
   "outputs": [],
   "source": [
    "game = Dice_Game(players=3)"
   ]
  },
  {
   "cell_type": "code",
   "execution_count": 15,
   "metadata": {},
   "outputs": [
    {
     "data": {
      "text/plain": [
       "7500"
      ]
     },
     "execution_count": 15,
     "metadata": {},
     "output_type": "execute_result"
    }
   ],
   "source": [
    "game.play_to"
   ]
  },
  {
   "cell_type": "code",
   "execution_count": 16,
   "metadata": {},
   "outputs": [
    {
     "name": "stdout",
     "output_type": "stream",
     "text": [
      "[2, 4, 2, 6, 3, 4]\n"
     ]
    }
   ],
   "source": [
    "print([i.face_up for i in game.dice])"
   ]
  },
  {
   "cell_type": "code",
   "execution_count": 17,
   "metadata": {},
   "outputs": [
    {
     "data": {
      "text/plain": [
       "'Player_1'"
      ]
     },
     "execution_count": 17,
     "metadata": {},
     "output_type": "execute_result"
    }
   ],
   "source": [
    "game.players[0].name"
   ]
  },
  {
   "cell_type": "code",
   "execution_count": 18,
   "metadata": {},
   "outputs": [
    {
     "name": "stdout",
     "output_type": "stream",
     "text": [
      "SHAKING\n",
      "I, Player_1 shook the dice: [1, 5, 6, 6, 1, 1]\n"
     ]
    }
   ],
   "source": [
    "shake = game.shake(game.dice,game.players[0])"
   ]
  },
  {
   "cell_type": "code",
   "execution_count": 19,
   "metadata": {},
   "outputs": [
    {
     "name": "stdout",
     "output_type": "stream",
     "text": [
      "lets goooo!\n",
      "SHAKING\n",
      "I, Player_1 shook the dice: [2, 5, 5, 6, 2, 2]\n",
      "BEGIN DETECTING KEEPABLES\n",
      "set_of_three 2\n",
      "keepable dice faces after adding three of a kinds: [[2, 2, 2]]\n",
      "keepable dice faces after adding ones and fives: [[2, 2, 2], 5, 5]\n",
      "total keepable list of dice faces: [[2, 2, 2], 5, 5]\n",
      "BEGIN KEEPING DICE\n",
      "kept dice faces: [5]\n",
      "dice still to shake faces: [2, 5, 6, 2, 2]\n",
      "still to shake faces: [2, 5, 6, 2, 2]\n",
      "KEPT: [<__main__.Dice_Game.Die object at 0x10a32f210>]\n",
      "SINGLE 5 SCORES 50\n",
      "SCORE: 50\n",
      "FIRST JUNCTION\n",
      "On turn 1 shake 1 , I, Player_1 kept [5] and my total kept dice is [5]\n",
      "keep 'em rollin'!\n",
      "kept so far: [5]\n",
      "SHAKING\n",
      "I, Player_1 shook the dice: [3, 1, 1, 6, 4]\n",
      "shake: [3, 1, 1, 6, 4]\n",
      "BEGIN DETECTING KEEPABLES\n",
      "keepable dice faces after adding three of a kinds: []\n",
      "keepable dice faces after adding ones and fives: [1, 1]\n",
      "total keepable list of dice faces: [1, 1]\n",
      "BEGIN KEEPING DICE\n",
      "kept dice faces: [1]\n",
      "dice still to shake faces: [3, 1, 6, 4]\n",
      "TO KEEP: [1]\n",
      "SECOND JUNCTION\n",
      "On turn 1 shake 2 , I, Player_1 kept [1] and my total kept dice is [5, 1]\n",
      "keep 'em rollin'!\n",
      "kept so far: [5, 1]\n",
      "SHAKING\n",
      "I, Player_1 shook the dice: [5, 3, 3, 5]\n",
      "shake: [5, 3, 3, 5]\n",
      "BEGIN DETECTING KEEPABLES\n",
      "keepable dice faces after adding three of a kinds: []\n",
      "keepable dice faces after adding ones and fives: [5, 5]\n",
      "total keepable list of dice faces: [5, 5]\n",
      "BEGIN KEEPING DICE\n",
      "kept dice faces: [5]\n",
      "dice still to shake faces: [3, 3, 5]\n",
      "TO KEEP: [5]\n",
      "SECOND JUNCTION\n",
      "On turn 1 shake 3 , I, Player_1 kept [5] and my total kept dice is [5, 1, 5]\n",
      "keep 'em rollin'!\n",
      "kept so far: [5, 1, 5]\n",
      "SHAKING\n",
      "I, Player_1 shook the dice: [6, 5, 5]\n",
      "shake: [6, 5, 5]\n",
      "BEGIN DETECTING KEEPABLES\n",
      "keepable dice faces after adding three of a kinds: []\n",
      "keepable dice faces after adding ones and fives: [5, 5]\n",
      "total keepable list of dice faces: [5, 5]\n",
      "BEGIN KEEPING DICE\n",
      "kept dice faces: [5]\n",
      "dice still to shake faces: [6, 5]\n",
      "TO KEEP: [5]\n",
      "SECOND JUNCTION\n",
      "On turn 1 shake 4 , I, Player_1 kept [5] and my total kept dice is [5, 1, 5, 5]\n",
      "keep 'em rollin'!\n",
      "kept so far: [5, 1, 5, 5]\n",
      "SHAKING\n",
      "I, Player_1 shook the dice: [5, 5]\n",
      "shake: [5, 5]\n",
      "BEGIN DETECTING KEEPABLES\n",
      "keepable dice faces after adding three of a kinds: []\n",
      "keepable dice faces after adding ones and fives: [5, 5]\n",
      "total keepable list of dice faces: [5, 5]\n",
      "total keepable list of dice faces: [5, 5]\n",
      "ALL COUNTERS.  BRING EM BACK!  NEED FUNCTION HERE!!!!\n",
      "BEGIN KEEPING DICE\n",
      "kept dice faces: [5]\n",
      "dice still to shake faces: [5]\n",
      "TO KEEP: [5]\n",
      "SECOND JUNCTION\n",
      "On turn 1 shake 5 , I, Player_1 kept [5] and my total kept dice is [5, 1, 5, 5, 5]\n",
      "bringing back from second junction.............\n",
      "keep 'em rollin'!\n",
      "kept so far: [5, 1, 5, 5, 5]\n",
      "SHAKING\n",
      "I, Player_1 shook the dice: [6, 1, 6, 2, 1, 6]\n",
      "shake: [6, 1, 6, 2, 1, 6]\n",
      "BEGIN DETECTING KEEPABLES\n",
      "set_of_three 6\n",
      "keepable dice faces after adding three of a kinds: [[6, 6, 6]]\n",
      "keepable dice faces after adding ones and fives: [[6, 6, 6], 1, 1]\n",
      "total keepable list of dice faces: [[6, 6, 6], 1, 1]\n",
      "BEGIN KEEPING DICE\n",
      "kept dice faces: [[6, 6, 6]]\n",
      "i in kept_dice is list: [6, 6, 6]\n",
      "j.face_up in list i: 6\n",
      "remaining shook_dice faces after removing j: [1, 6, 2, 1, 6]\n",
      "j.face_up in list i: 6\n",
      "remaining shook_dice faces after removing j: [1, 2, 1, 6]\n",
      "j.face_up in list i: 6\n",
      "remaining shook_dice faces after removing j: [1, 2, 1]\n",
      "dice still to shake faces: [1, 2, 1]\n",
      "TO KEEP: [[6, 6, 6]]\n",
      "SECOND JUNCTION\n",
      "On turn 1 shake 6 , I, Player_1 kept [[6, 6, 6]] and my total kept dice is [1, 6, 6, 6, 1, [6, 6, 6]]\n",
      "keep 'em rollin'!\n",
      "kept so far: [1, 6, 6, 6, 1, [6, 6, 6]]\n",
      "SHAKING\n",
      "I, Player_1 shook the dice: [6, 3, 4]\n",
      "shake: [6, 3, 4]\n",
      "BEGIN DETECTING KEEPABLES\n",
      "keepable dice faces after adding three of a kinds: []\n",
      "keepable dice faces after adding ones and fives: []\n",
      "total keepable list of dice faces: []\n",
      "BEGIN KEEPING DICE\n",
      "kept dice faces: []\n",
      "dice still to shake faces: [6, 3, 4]\n",
      "TO KEEP: []\n",
      "SECOND JUNCTION\n",
      "On turn 1 shake 7 , I, Player_1 kept [] and my total kept dice is [6, 6, 6, 6, 4, [6, 6, 6]]\n",
      "you got nuthin:' [6, 3, 4] . next player's turn.\n"
     ]
    },
    {
     "name": "stderr",
     "output_type": "stream",
     "text": [
      "/anaconda3/lib/python3.7/site-packages/ipykernel_launcher.py:209: VisibleDeprecationWarning: Creating an ndarray from ragged nested sequences (which is a list-or-tuple of lists-or-tuples-or ndarrays with different lengths or shapes) is deprecated. If you meant to do this, you must specify 'dtype=object' when creating the ndarray\n"
     ]
    }
   ],
   "source": [
    "game.player_take_turn(game.players[0])"
   ]
  },
  {
   "cell_type": "code",
   "execution_count": null,
   "metadata": {},
   "outputs": [],
   "source": [
    "game.players[0].turn"
   ]
  },
  {
   "cell_type": "code",
   "execution_count": null,
   "metadata": {},
   "outputs": [],
   "source": []
  },
  {
   "cell_type": "code",
   "execution_count": 41,
   "metadata": {},
   "outputs": [],
   "source": [
    "def kept_dice_faces_to_score(kept_dice_faces):\n",
    "    \n",
    "    score = 0\n",
    "    \n",
    "    if all(isinstance(i,int) for i in kept_dice_faces):\n",
    "        if set(kept_dice_faces) == set([1,2,3,4,5,6]):\n",
    "            score += 2500\n",
    "            print('STRAIGHT', kept_dice_faces, 'SCORES:', score)\n",
    "    else:\n",
    "        for i in kept_dice_faces:\n",
    "            if isinstance(i,list):\n",
    "                j = i[0]\n",
    "                if j >= 2:\n",
    "                    score += j*100\n",
    "                    print('TOAK', i, 'SCORES:', j*100)\n",
    "                else:\n",
    "                    score += 1000\n",
    "                    print('TOAK of ONES', i, 'SCORES:', 1000)\n",
    "            else:\n",
    "                if i == 1:\n",
    "                    score += 100\n",
    "                    print('SINGLE', i, 'SCORES', 100)\n",
    "                elif i == 5:\n",
    "                    score += 50\n",
    "                    print('SINGLE', i, 'SCORES', 50)\n",
    "    \n",
    "    return score"
   ]
  },
  {
   "cell_type": "code",
   "execution_count": 146,
   "metadata": {},
   "outputs": [],
   "source": [
    "def stay_or_go(potential_score,Player):\n",
    "    \n",
    "    \n",
    "    \n",
    "    return decision"
   ]
  },
  {
   "cell_type": "code",
   "execution_count": 24,
   "metadata": {},
   "outputs": [],
   "source": [
    "diex = Dice_Game.Die(6)"
   ]
  },
  {
   "cell_type": "code",
   "execution_count": 25,
   "metadata": {},
   "outputs": [
    {
     "data": {
      "text/plain": [
       "__main__.Dice_Game.Die"
      ]
     },
     "execution_count": 25,
     "metadata": {},
     "output_type": "execute_result"
    }
   ],
   "source": [
    "type(diex)"
   ]
  },
  {
   "cell_type": "code",
   "execution_count": 26,
   "metadata": {},
   "outputs": [
    {
     "data": {
      "text/plain": [
       "True"
      ]
     },
     "execution_count": 26,
     "metadata": {},
     "output_type": "execute_result"
    }
   ],
   "source": [
    "type(diex) == Dice_Game.Die"
   ]
  },
  {
   "cell_type": "code",
   "execution_count": 27,
   "metadata": {},
   "outputs": [
    {
     "data": {
      "text/plain": [
       "<__main__.Dice_Game.Die at 0x117bbb190>"
      ]
     },
     "execution_count": 27,
     "metadata": {},
     "output_type": "execute_result"
    }
   ],
   "source": [
    "diex"
   ]
  },
  {
   "cell_type": "code",
   "execution_count": 28,
   "metadata": {},
   "outputs": [
    {
     "data": {
      "text/plain": [
       "4"
      ]
     },
     "execution_count": 28,
     "metadata": {},
     "output_type": "execute_result"
    }
   ],
   "source": [
    "diex.face_up"
   ]
  },
  {
   "cell_type": "code",
   "execution_count": 29,
   "metadata": {},
   "outputs": [
    {
     "data": {
      "text/plain": [
       "4"
      ]
     },
     "execution_count": 29,
     "metadata": {},
     "output_type": "execute_result"
    }
   ],
   "source": [
    "diey = Dice_Game.Die(6)\n",
    "diey.face_up"
   ]
  },
  {
   "cell_type": "code",
   "execution_count": 30,
   "metadata": {},
   "outputs": [
    {
     "data": {
      "text/plain": [
       "5"
      ]
     },
     "execution_count": 30,
     "metadata": {},
     "output_type": "execute_result"
    }
   ],
   "source": [
    "diez = Dice_Game.Die(6)\n",
    "diez.face_up"
   ]
  },
  {
   "cell_type": "code",
   "execution_count": 31,
   "metadata": {},
   "outputs": [],
   "source": [
    "list_of_die = [diex,diey,diez]"
   ]
  },
  {
   "cell_type": "code",
   "execution_count": 33,
   "metadata": {},
   "outputs": [
    {
     "data": {
      "text/plain": [
       "[4, 4, 5]"
      ]
     },
     "execution_count": 33,
     "metadata": {},
     "output_type": "execute_result"
    }
   ],
   "source": [
    "list_of_faces = [diex.face_up,diey.face_up,diez.face_up]\n",
    "list_of_faces"
   ]
  },
  {
   "cell_type": "code",
   "execution_count": 34,
   "metadata": {},
   "outputs": [],
   "source": [
    "if diex in list_of_faces:\n",
    "    print('h')"
   ]
  },
  {
   "cell_type": "code",
   "execution_count": 35,
   "metadata": {},
   "outputs": [
    {
     "data": {
      "text/plain": [
       "[4, 4, 5, 3, [3, 4]]"
      ]
     },
     "execution_count": 35,
     "metadata": {},
     "output_type": "execute_result"
    }
   ],
   "source": [
    "list_of_faces.extend([3,[3,4]])\n",
    "list_of_faces"
   ]
  },
  {
   "cell_type": "code",
   "execution_count": 37,
   "metadata": {},
   "outputs": [
    {
     "data": {
      "text/plain": [
       "True"
      ]
     },
     "execution_count": 37,
     "metadata": {},
     "output_type": "execute_result"
    }
   ],
   "source": [
    "all(die.face_up in list_of_faces for die in list_of_die)"
   ]
  },
  {
   "cell_type": "code",
   "execution_count": 38,
   "metadata": {},
   "outputs": [
    {
     "name": "stdout",
     "output_type": "stream",
     "text": [
      "<generator object <genexpr> at 0x11e63a250>\n"
     ]
    }
   ],
   "source": [
    "print(die.face_up in list_of_faces for die in list_of_die)"
   ]
  },
  {
   "cell_type": "code",
   "execution_count": 30,
   "metadata": {},
   "outputs": [],
   "source": [
    "def object_list_to_faces(die_list):\n",
    "    '''\n",
    "    Function takes list (potentially including lists) of die objects and returns a list (of lists) of the die faces.\n",
    "    '''\n",
    "    \n",
    "    face_list = [i.face_up if type(i) == Dice_Game.Die else [j.face_up for j in i] for i in die_list]\n",
    "    \n",
    "    return face_list\n",
    "    "
   ]
  },
  {
   "cell_type": "code",
   "execution_count": 43,
   "metadata": {},
   "outputs": [
    {
     "name": "stdout",
     "output_type": "stream",
     "text": [
      "SINGLE 1 SCORES 100\n",
      "SINGLE 5 SCORES 50\n",
      "TOAK [3, 3, 3] SCORES: 300\n"
     ]
    },
    {
     "data": {
      "text/plain": [
       "450"
      ]
     },
     "execution_count": 43,
     "metadata": {},
     "output_type": "execute_result"
    }
   ],
   "source": [
    "dices = [1,5,[3,3,3]]\n",
    "kept_dice_faces_to_score(dices)"
   ]
  },
  {
   "cell_type": "code",
   "execution_count": 39,
   "metadata": {},
   "outputs": [
    {
     "data": {
      "text/plain": [
       "[1, 2, 3, 4, 5, 6]"
      ]
     },
     "execution_count": 39,
     "metadata": {},
     "output_type": "execute_result"
    }
   ],
   "source": [
    "dices"
   ]
  },
  {
   "cell_type": "code",
   "execution_count": 40,
   "metadata": {},
   "outputs": [
    {
     "data": {
      "text/plain": [
       "True"
      ]
     },
     "execution_count": 40,
     "metadata": {},
     "output_type": "execute_result"
    }
   ],
   "source": [
    "all(isinstance(i,int) for i in dices)"
   ]
  },
  {
   "cell_type": "code",
   "execution_count": 22,
   "metadata": {},
   "outputs": [
    {
     "data": {
      "text/plain": [
       "False"
      ]
     },
     "execution_count": 22,
     "metadata": {},
     "output_type": "execute_result"
    }
   ],
   "source": [
    "type(list) in dices"
   ]
  },
  {
   "cell_type": "code",
   "execution_count": 23,
   "metadata": {},
   "outputs": [
    {
     "name": "stdout",
     "output_type": "stream",
     "text": [
      "<class 'int'>\n",
      "<class 'int'>\n",
      "<class 'list'>\n"
     ]
    }
   ],
   "source": [
    "for i in dices:\n",
    "    print(type(i))"
   ]
  },
  {
   "cell_type": "code",
   "execution_count": null,
   "metadata": {},
   "outputs": [],
   "source": []
  }
 ],
 "metadata": {
  "kernelspec": {
   "display_name": "Python 3",
   "language": "python",
   "name": "python3"
  },
  "language_info": {
   "codemirror_mode": {
    "name": "ipython",
    "version": 3
   },
   "file_extension": ".py",
   "mimetype": "text/x-python",
   "name": "python",
   "nbconvert_exporter": "python",
   "pygments_lexer": "ipython3",
   "version": "3.7.7"
  }
 },
 "nbformat": 4,
 "nbformat_minor": 4
}
