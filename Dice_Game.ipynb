{
 "cells": [
  {
   "cell_type": "markdown",
   "metadata": {},
   "source": [
    "# Create dice objects to be used in simple dice game simulations"
   ]
  },
  {
   "cell_type": "code",
   "execution_count": 13,
   "metadata": {},
   "outputs": [],
   "source": [
    "import numpy as np\n",
    "\n",
    "class Die:\n",
    "    '''\n",
    "    Dice have a number of sides and, unless in motion, always have one face up.  \n",
    "    \n",
    "    Cocked dice are ignored, and motion/trajectories are assumed to be a random choice from the number of sides.\n",
    "    '''\n",
    "    \n",
    "    def __init__(self,sides):\n",
    "        self.sides = sides\n",
    "        self.face_up = np.random.choice([i+1 for i in range(self.sides)])\n",
    "        \n",
    "    def roll(self):\n",
    "        self.face_up = np.random.choice([i+1 for i in range(self.sides)])\n",
    "        \n",
    "        return self.face_up"
   ]
  },
  {
   "cell_type": "code",
   "execution_count": 14,
   "metadata": {},
   "outputs": [],
   "source": [
    "die = Die(sides=6)"
   ]
  },
  {
   "cell_type": "code",
   "execution_count": 3,
   "metadata": {},
   "outputs": [
    {
     "data": {
      "text/plain": [
       "2"
      ]
     },
     "execution_count": 3,
     "metadata": {},
     "output_type": "execute_result"
    }
   ],
   "source": [
    "die.face_up"
   ]
  },
  {
   "cell_type": "code",
   "execution_count": 4,
   "metadata": {},
   "outputs": [
    {
     "data": {
      "text/plain": [
       "5"
      ]
     },
     "execution_count": 4,
     "metadata": {},
     "output_type": "execute_result"
    }
   ],
   "source": [
    "die.roll()"
   ]
  },
  {
   "cell_type": "code",
   "execution_count": 5,
   "metadata": {},
   "outputs": [
    {
     "data": {
      "text/plain": [
       "5"
      ]
     },
     "execution_count": 5,
     "metadata": {},
     "output_type": "execute_result"
    }
   ],
   "source": [
    "die.face_up"
   ]
  },
  {
   "cell_type": "code",
   "execution_count": 141,
   "metadata": {},
   "outputs": [],
   "source": [
    "import numpy as np\n",
    "\n",
    "class Dice_Game:\n",
    "    '''\n",
    "    This simple multiplayer dice game is just called \"Dice\".  \n",
    "    \n",
    "    Instructions:\n",
    "    \n",
    "    Players determine who goes first, and proceed taking turns in an order (typically clockwise around a table).\n",
    "    \n",
    "    Each player, in turn, proceeds by first shaking all six dice, \n",
    "    and proceeding along a decision tree of subsequent rolls.\n",
    "    This tree ends in either a zero score, where a shake results in no dice count for points, \n",
    "    or the player \"keeps\" a number of dice which count for points.\n",
    "    \n",
    "    The point value of dice are determined per shake, \n",
    "    and point values do not change when mixed with dice kept from previous rolls.\n",
    "    \n",
    "    COUNTERS:\n",
    "    \n",
    "    One: 100\n",
    "    Five: 50\n",
    "    \n",
    "    THREE-OF-A-KIND:\n",
    "    Ones: 1000\n",
    "    Sixes: 600\n",
    "    Fives: 500\n",
    "    Fours: 400\n",
    "    Threes: 300\n",
    "    Twos: 200\n",
    "    \n",
    "    STRAIGHT (1,2,3,4,5,6): 2500\n",
    "    \n",
    "    FLUSH (ALL-OF-A-KIND): Instant Win.\n",
    "    \n",
    "    On the occasion where all dice rolled are \"counters\", the dice must all be brought back and shook again.\n",
    "    The turn proceeds as usual, adding the new shake points to the previous all-counter results.\n",
    "    \n",
    "    \n",
    "    '''\n",
    "    \n",
    "    def __init__(self, players, num_dice=6):\n",
    "        self.player_names = ['Player_{}'.format(name + 1) for name in [j for j in range(players)]]\n",
    "        self.players = [self.Player(name=player) for player in self.player_names]\n",
    "        self.dice = [self.Die(sides=6) for die in [i for i in range(num_dice)]]\n",
    "        self.play_to = 7500\n",
    "        \n",
    "        \n",
    "    def start():\n",
    "        self.score = score\n",
    "        \n",
    "    \n",
    "    def shake(self,Player):\n",
    "        shook_dice = [die.roll() for die in self.dice]\n",
    "        print('I,', Player.name, 'shook the dice:', [i.face_up for i in self.dice])\n",
    "        #print('shook dice:', shook_dice)\n",
    "        return shook_dice\n",
    "\n",
    "        \n",
    "        \n",
    "    def player_take_turn(self,Player):\n",
    "        hand = self.shake(Player)\n",
    "        counters = []\n",
    "        \n",
    "        Player.turn += 1\n",
    "        \n",
    "        \n",
    "    \n",
    "    class Die:\n",
    "        '''\n",
    "        Dice have a number of sides and, unless in motion, always have one face up.  \n",
    "\n",
    "        Cocked dice are ignored, and motion/trajectories are assumed to be a random choice from the number of sides.\n",
    "        '''\n",
    "\n",
    "        def __init__(self,sides):\n",
    "            self.sides = sides\n",
    "            self.face_up = np.random.choice([i+1 for i in range(self.sides)])\n",
    "\n",
    "        def roll(self):\n",
    "            self.face_up = np.random.choice([i+1 for i in range(self.sides)])\n",
    "\n",
    "            return self.face_up\n",
    "    \n",
    "    # Players as subclass, called in Dice_Game init\n",
    "    class Player:\n",
    "        '''\n",
    "        Each player is equipped with a turn method which includes shaking dice, and records their score.\n",
    "        '''\n",
    "    \n",
    "        def __init__(self,name):\n",
    "            self.name = name\n",
    "            self.turn = 0\n",
    "            self.score = 0\n",
    "\n",
    "            \n"
   ]
  },
  {
   "cell_type": "code",
   "execution_count": 142,
   "metadata": {},
   "outputs": [],
   "source": [
    "game = Dice_Game(players=3)"
   ]
  },
  {
   "cell_type": "code",
   "execution_count": 143,
   "metadata": {},
   "outputs": [
    {
     "data": {
      "text/plain": [
       "7500"
      ]
     },
     "execution_count": 143,
     "metadata": {},
     "output_type": "execute_result"
    }
   ],
   "source": [
    "game.play_to"
   ]
  },
  {
   "cell_type": "code",
   "execution_count": 144,
   "metadata": {},
   "outputs": [
    {
     "name": "stdout",
     "output_type": "stream",
     "text": [
      "[1, 3, 1, 1, 4, 4]\n"
     ]
    }
   ],
   "source": [
    "print([i.face_up for i in game.dice])"
   ]
  },
  {
   "cell_type": "code",
   "execution_count": 145,
   "metadata": {},
   "outputs": [
    {
     "data": {
      "text/plain": [
       "'Player_1'"
      ]
     },
     "execution_count": 145,
     "metadata": {},
     "output_type": "execute_result"
    }
   ],
   "source": [
    "game.players[0].name"
   ]
  },
  {
   "cell_type": "code",
   "execution_count": 146,
   "metadata": {},
   "outputs": [
    {
     "name": "stdout",
     "output_type": "stream",
     "text": [
      "I, Player_1 shook the dice: [3, 6, 4, 5, 3, 4]\n"
     ]
    },
    {
     "data": {
      "text/plain": [
       "[3, 6, 4, 5, 3, 4]"
      ]
     },
     "execution_count": 146,
     "metadata": {},
     "output_type": "execute_result"
    }
   ],
   "source": [
    "game.shake(game.players[0])"
   ]
  },
  {
   "cell_type": "code",
   "execution_count": 149,
   "metadata": {},
   "outputs": [
    {
     "name": "stdout",
     "output_type": "stream",
     "text": [
      "I, Player_1 shook the dice: [1, 5, 2, 2, 4, 4]\n"
     ]
    }
   ],
   "source": [
    "game.player_take_turn(game.players[0])"
   ]
  },
  {
   "cell_type": "code",
   "execution_count": 150,
   "metadata": {},
   "outputs": [
    {
     "data": {
      "text/plain": [
       "1"
      ]
     },
     "execution_count": 150,
     "metadata": {},
     "output_type": "execute_result"
    }
   ],
   "source": [
    "game.players[0].turn"
   ]
  },
  {
   "cell_type": "code",
   "execution_count": 55,
   "metadata": {},
   "outputs": [],
   "source": []
  },
  {
   "cell_type": "code",
   "execution_count": null,
   "metadata": {},
   "outputs": [],
   "source": []
  },
  {
   "cell_type": "code",
   "execution_count": null,
   "metadata": {},
   "outputs": [],
   "source": []
  }
 ],
 "metadata": {
  "kernelspec": {
   "display_name": "Python 3",
   "language": "python",
   "name": "python3"
  },
  "language_info": {
   "codemirror_mode": {
    "name": "ipython",
    "version": 3
   },
   "file_extension": ".py",
   "mimetype": "text/x-python",
   "name": "python",
   "nbconvert_exporter": "python",
   "pygments_lexer": "ipython3",
   "version": "3.7.7"
  }
 },
 "nbformat": 4,
 "nbformat_minor": 4
}
